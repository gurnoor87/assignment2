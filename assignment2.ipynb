{
 "cells": [
  {
   "cell_type": "code",
   "execution_count": 1,
   "id": "e5ff4a76-bdf7-4cfc-a5fe-87033f3932c8",
   "metadata": {},
   "outputs": [],
   "source": [
    "#assignment 2\n"
   ]
  },
  {
   "cell_type": "code",
   "execution_count": 2,
   "id": "a8da2e3c-b5c0-4711-b877-9da870ca5695",
   "metadata": {},
   "outputs": [
    {
     "ename": "SyntaxError",
     "evalue": "invalid syntax (1696709882.py, line 1)",
     "output_type": "error",
     "traceback": [
      "\u001b[0;36m  Cell \u001b[0;32mIn[7], line 1\u001b[0;36m\u001b[0m\n\u001b[0;31m    Q: Given a list my_list = [1, 2, 3, 4, 5], write the code to slice the list and obtain the sub-list [2, 3].\u001b[0m\n\u001b[0m             ^\u001b[0m\n\u001b[0;31mSyntaxError\u001b[0m\u001b[0;31m:\u001b[0m invalid syntax\n"
     ]
    }
   ],
   "source": [
    "Q1. How do you comment code in Python? What are the different types of comments?\n",
    "ans : we can comment code in python using the symbol #\n",
    "example # this is my first comment\n",
    "        code : print(\"hello world\")\n",
    "        comment the code : # print(\"hello world\")\n",
    "            \n",
    "there are three types of comments:\n",
    "1.single line comment\n",
    "# List of numbers\n",
    "numbers = [11, 54, 42, 11]\n",
    "\n",
    "2. Multi-line comments    \n",
    "# Hi,my name is gurnoor singh\n",
    "# currently in 4th year of \n",
    "# Btech cse\n",
    "\n",
    "3.Python docstrings\n",
    "Example:           \n",
    "\n",
    "def hello(name): \n",
    "    \"\"\" This function greets the person passed as a parameter \"\"\"\n",
    "    print(\"Hello, \" + name + \". How are you?\")\n",
    "hello('Gurnoor singh')\n",
    "\n",
    "output : Hello, Gurnoor singh. How are you?\n",
    "\n",
    "Q2. What are variables in Python? How do you declare and assign values to variables?\n",
    "ans : Variables are words that are used to store values of any data type.\n",
    "\n",
    "Syntax for declaring a variable:             \n",
    "variable_name = data values               \n",
    "where, variable_name = combination of letters, numbers and an underscore.\n",
    "\n",
    "Rules to be followed while declaring a Variable name are as:\n",
    " 1.   A Variable’s name cannot start with a number. Either an alphabet or the underscore character should be used as the first character.\n",
    " 2.   Variable names are case-sensitive and can include alphanumeric letters as well as the underscore character.\n",
    " 3.    Variable names cannot contain reserved terms.\n",
    " 4.The equal to sign ‘=’, followed by the variable’s value, is used to assign variables in Python\n",
    "\n",
    "Simple declaration and assigning of a value to the Variable\n",
    "In this type, the data values are directly assigned to the Variables in the declaration statement.\n",
    "Example:\n",
    "num = 5\n",
    "l = [1,2,3,4,5]\n",
    "str = 'My name is Gurnoor singh'\n",
    "\n",
    "print(num)\n",
    "print(l)\n",
    "print(str)\n",
    "\n",
    "Output:               \n",
    "5\n",
    "[1, 2, 3, 4, 5]\n",
    "My name is Gurnoor singh\n",
    "\n",
    "Q3. How do you convert one data type to another in Python?\n",
    "ans: The process of converting the value of one data type into another type is called Type Conversion.Type conversion is also called type casting\n",
    "example:\n",
    "Integer to Float:\n",
    "input:     \n",
    "integer_num = 10\n",
    "float_num = float(integer_num)\n",
    "print(float_num)\n",
    "\n",
    "output: 10.0\n",
    "\n",
    "example:\n",
    "Float to Integer:\n",
    "input:\n",
    "float_num = 20.10\n",
    "int_num = int(float_num)\n",
    "print(int_num)\n",
    "\n",
    "output:20    \n",
    "\n",
    "Q4. How do you write and execute a Python script from the command line?\n",
    "ans:there \n",
    "1.Use a text editor jupitor to write your Python code.\n",
    "2.Save the file with a .py extension, like your_script.py.\n",
    "3.Open the command line or terminal.\n",
    "4.Navigate to the directory containing your script using cd (change directory) command.\n",
    "5.Run the script using python your_script.py.\n",
    "\n",
    "\n",
    "\n",
    "\n",
    "                    \n",
    "5Q: Given a list my_list = [1, 2, 3, 4, 5], write the code to slice the list and obtain the sub-list [2, 3].\n",
    "ans : input:\n",
    "      my_list=[1,2,3,4,5]\n",
    "        my_list[1:3]\n",
    "    \n",
    "output: [2, 3]\n",
    "  \n",
    "Q6. What is a complex number in mathematics, and how is it represented in Python?\n",
    "ans: complex numbers are combination of real and imaginary part.It is written in the form of \"a + bi\"\n",
    "     where 'a' is real part and 'b' is amginary part.\n",
    "in python, they are represented as:\n",
    "    2+3j , where 2 is the real part and 3j is the imaginary part.\n",
    "    \n",
    "Q7. What is the correct way to declare a variable named age and assign the value 25 to it?\n",
    "ans :The correct way to declare a variable named age and assign the value 25 to it in Python is as follows:\n",
    "    age = 25\n",
    "\n",
    "Q8. Declare a variable named price and assign the value 9.99 to it. What data type does this variable\n",
    "belong to?    \n",
    "ans: input:\n",
    "    price=9.99\n",
    "    type(price)\n",
    "        \n",
    "output: float\n",
    "\n",
    "Q9. Create a variable named name and assign your full name to it as a string. How would you print the\n",
    "value of this variable?\n",
    "ans: input:\n",
    "    name = \"Gurnoor singh\"\n",
    "    print(name)\n",
    "    \n",
    "output:Gurnoor singh \n",
    "\n",
    "Q10. Given the string \"Hello, World!\", extract the substring \"World\".\n",
    "ans : input:\n",
    "    string=\"hello, world!\"\n",
    "    string[7:12]\n",
    "output: 'world'\n",
    "\n",
    "Q11. Create a variable named \"is_student\" and assign it a boolean value indicating whether you are\n",
    "currently a student or not.\n",
    "ans :is_student=True #if you are a student\n",
    "     is_student=False #if you are not a student\n",
    "    \n"
   ]
  },
  {
   "cell_type": "code",
   "execution_count": 5,
   "id": "23b4026a-5c99-4f22-b773-447aef817407",
   "metadata": {},
   "outputs": [
    {
     "data": {
      "text/plain": [
       "[2, 3]"
      ]
     },
     "execution_count": 5,
     "metadata": {},
     "output_type": "execute_result"
    }
   ],
   "source": [
    "my_list=[1,2,3,4,5]\n",
    "my_list[1:3]"
   ]
  },
  {
   "cell_type": "code",
   "execution_count": 6,
   "id": "ba165554-04d9-4d07-881a-eec68fe68104",
   "metadata": {},
   "outputs": [
    {
     "data": {
      "text/plain": [
       "float"
      ]
     },
     "execution_count": 6,
     "metadata": {},
     "output_type": "execute_result"
    }
   ],
   "source": [
    "price=9.99\n",
    "type(price)"
   ]
  },
  {
   "cell_type": "code",
   "execution_count": 9,
   "id": "7e45a265-2284-4fe4-8ddc-afc3b1a06541",
   "metadata": {},
   "outputs": [
    {
     "data": {
      "text/plain": [
       "'world'"
      ]
     },
     "execution_count": 9,
     "metadata": {},
     "output_type": "execute_result"
    }
   ],
   "source": [
    "string=\"hello, world!\"\n",
    "string[7:12]"
   ]
  },
  {
   "cell_type": "code",
   "execution_count": 12,
   "id": "00c0a90e-2b81-4ade-a06a-3cf4c73460e9",
   "metadata": {},
   "outputs": [
    {
     "name": "stdout",
     "output_type": "stream",
     "text": [
      "Gurnoor singh\n"
     ]
    }
   ],
   "source": [
    "name = \"Gurnoor singh\"\n",
    "print(name)"
   ]
  },
  {
   "cell_type": "code",
   "execution_count": 1,
   "id": "fbea949e-9ed2-4e7a-b5ad-da907353550a",
   "metadata": {},
   "outputs": [
    {
     "ename": "NameError",
     "evalue": "name 'hello' is not defined",
     "output_type": "error",
     "traceback": [
      "\u001b[0;31m---------------------------------------------------------------------------\u001b[0m",
      "\u001b[0;31mNameError\u001b[0m                                 Traceback (most recent call last)",
      "Cell \u001b[0;32mIn[1], line 1\u001b[0m\n\u001b[0;32m----> 1\u001b[0m \u001b[43mhello\u001b[49m(\u001b[38;5;124m'\u001b[39m\u001b[38;5;124mGurnoor singh\u001b[39m\u001b[38;5;124m'\u001b[39m)\n",
      "\u001b[0;31mNameError\u001b[0m: name 'hello' is not defined"
     ]
    }
   ],
   "source": [
    "hello('Gurnoor singh')"
   ]
  },
  {
   "cell_type": "code",
   "execution_count": 13,
   "id": "2b335411-8f6f-4fba-8fe9-dcd26251eb7e",
   "metadata": {},
   "outputs": [
    {
     "ename": "IndentationError",
     "evalue": "unexpected indent (463382536.py, line 6)",
     "output_type": "error",
     "traceback": [
      "\u001b[0;36m  Cell \u001b[0;32mIn[13], line 6\u001b[0;36m\u001b[0m\n\u001b[0;31m    print(\"Hello, \" + name + \". How are you?\")\u001b[0m\n\u001b[0m    ^\u001b[0m\n\u001b[0;31mIndentationError\u001b[0m\u001b[0;31m:\u001b[0m unexpected indent\n"
     ]
    }
   ],
   "source": [
    "def hello(name):\n",
    "    \n",
    "\n",
    " \"\"\" This function greets the person passed as a parameter \"\"\"\n",
    "\n",
    "    print(\"Hello, \" + name + \". How are you?\")\n",
    "\n",
    "hello('Gurnoor singh')\n"
   ]
  },
  {
   "cell_type": "code",
   "execution_count": 17,
   "id": "132bb815-fc04-4dd0-a9ee-42026f38b139",
   "metadata": {},
   "outputs": [
    {
     "name": "stdout",
     "output_type": "stream",
     "text": [
      "Hello, Gurnoor singh. How are you?\n"
     ]
    }
   ],
   "source": [
    "\n",
    "def hello(name):\n",
    "    \n",
    "    \"\"\" This function greets the person passed as a parameter \"\"\"\n",
    "    print(\"Hello, \" + name + \". How are you?\")\n",
    "hello('Gurnoor singh')\n"
   ]
  },
  {
   "cell_type": "code",
   "execution_count": null,
   "id": "9c46209a-f74d-47ba-90c9-e2fbc731f278",
   "metadata": {},
   "outputs": [],
   "source": []
  },
  {
   "cell_type": "code",
   "execution_count": null,
   "id": "7c9e3bcf-4376-4f70-b3c2-09899f9eb090",
   "metadata": {},
   "outputs": [],
   "source": []
  },
  {
   "cell_type": "code",
   "execution_count": 18,
   "id": "f91db12b-6555-4381-b6be-c2dd070a0d28",
   "metadata": {},
   "outputs": [
    {
     "name": "stdout",
     "output_type": "stream",
     "text": [
      "5\n",
      "[1, 2, 3, 4, 5]\n",
      "My name is Gurnoor singh\n"
     ]
    }
   ],
   "source": [
    "num = 5\n",
    "l = [1,2,3,4,5]\n",
    "str = 'My name is Gurnoor singh'\n",
    "\n",
    "print(num)\n",
    "print(l)\n",
    "print(str)\n"
   ]
  },
  {
   "cell_type": "code",
   "execution_count": 25,
   "id": "2bf8d4d0-3581-466c-a373-5214ea61d6af",
   "metadata": {},
   "outputs": [
    {
     "ename": "NameError",
     "evalue": "name 'string' is not defined",
     "output_type": "error",
     "traceback": [
      "\u001b[0;31m---------------------------------------------------------------------------\u001b[0m",
      "\u001b[0;31mNameError\u001b[0m                                 Traceback (most recent call last)",
      "Cell \u001b[0;32mIn[25], line 3\u001b[0m\n\u001b[1;32m      1\u001b[0m a \u001b[38;5;241m=\u001b[39m \u001b[38;5;241m20\u001b[39m\n\u001b[1;32m      2\u001b[0m  \u001b[38;5;66;03m# Converting number to string\u001b[39;00m\n\u001b[0;32m----> 3\u001b[0m s \u001b[38;5;241m=\u001b[39m \u001b[43mstring\u001b[49m(a)\n\u001b[1;32m      4\u001b[0m \u001b[38;5;28mprint\u001b[39m(s)\n\u001b[1;32m      5\u001b[0m \u001b[38;5;28mprint\u001b[39m(\u001b[38;5;28mtype\u001b[39m(s))\n",
      "\u001b[0;31mNameError\u001b[0m: name 'string' is not defined"
     ]
    }
   ],
   "source": [
    "a = 20\n",
    " # Converting number to string\n",
    "s = string(a)\n",
    "print(s)\n",
    "print(type(s))"
   ]
  },
  {
   "cell_type": "code",
   "execution_count": 29,
   "id": "fbb4d2b2-9a58-4fd0-8f41-d5b48397de67",
   "metadata": {},
   "outputs": [
    {
     "ename": "NameError",
     "evalue": "name 'string' is not defined",
     "output_type": "error",
     "traceback": [
      "\u001b[0;31m---------------------------------------------------------------------------\u001b[0m",
      "\u001b[0;31mNameError\u001b[0m                                 Traceback (most recent call last)",
      "Cell \u001b[0;32mIn[29], line 2\u001b[0m\n\u001b[1;32m      1\u001b[0m a\u001b[38;5;241m=\u001b[39m\u001b[38;5;241m10\u001b[39m\n\u001b[0;32m----> 2\u001b[0m \u001b[38;5;28mprint\u001b[39m(\u001b[43mstring\u001b[49m(\u001b[38;5;124m\"\u001b[39m\u001b[38;5;124ma\u001b[39m\u001b[38;5;124m\"\u001b[39m))\n\u001b[1;32m      3\u001b[0m \u001b[38;5;28mtype\u001b[39m(a)\n",
      "\u001b[0;31mNameError\u001b[0m: name 'string' is not defined"
     ]
    }
   ],
   "source": [
    "a=10\n",
    "print(string(\"a\"))\n",
    "type(a)"
   ]
  },
  {
   "cell_type": "code",
   "execution_count": 32,
   "id": "74b573a3-a943-4aee-aca9-49b226e3c707",
   "metadata": {},
   "outputs": [
    {
     "ename": "TypeError",
     "evalue": "'str' object is not callable",
     "output_type": "error",
     "traceback": [
      "\u001b[0;31m---------------------------------------------------------------------------\u001b[0m",
      "\u001b[0;31mTypeError\u001b[0m                                 Traceback (most recent call last)",
      "Cell \u001b[0;32mIn[32], line 8\u001b[0m\n\u001b[1;32m      5\u001b[0m a \u001b[38;5;241m=\u001b[39m \u001b[38;5;241m10\u001b[39m\n\u001b[1;32m      7\u001b[0m \u001b[38;5;66;03m# Converting number to string\u001b[39;00m\n\u001b[0;32m----> 8\u001b[0m s \u001b[38;5;241m=\u001b[39m \u001b[38;5;28;43mstr\u001b[39;49m\u001b[43m(\u001b[49m\u001b[43ma\u001b[49m\u001b[43m)\u001b[49m\n\u001b[1;32m      9\u001b[0m \u001b[38;5;28mprint\u001b[39m(s)\n\u001b[1;32m     10\u001b[0m \u001b[38;5;28mprint\u001b[39m(\u001b[38;5;28mtype\u001b[39m(s))\n",
      "\u001b[0;31mTypeError\u001b[0m: 'str' object is not callable"
     ]
    }
   ],
   "source": [
    "# Python program to demonstrate\n",
    "# type conversion of number to\n",
    "# string\n",
    "\n",
    "a = 10\n",
    "\n",
    "# Converting number to string\n",
    "s = str(a)\n",
    "print(s)\n",
    "print(type(s))\n"
   ]
  },
  {
   "cell_type": "code",
   "execution_count": 33,
   "id": "943ba9c3-56a3-478d-b5de-02ccf6daf54b",
   "metadata": {},
   "outputs": [
    {
     "data": {
      "text/plain": [
       "str"
      ]
     },
     "execution_count": 33,
     "metadata": {},
     "output_type": "execute_result"
    }
   ],
   "source": [
    "s= \"gurnoor\"\n",
    "type(s)"
   ]
  },
  {
   "cell_type": "code",
   "execution_count": 40,
   "id": "2d134be2-e1f9-45fc-a7df-532c90b7ac76",
   "metadata": {},
   "outputs": [],
   "source": [
    "integer_num = 10\n",
    "float_num = float(integer_num)\n"
   ]
  },
  {
   "cell_type": "code",
   "execution_count": 41,
   "id": "47c305d5-09dd-4a43-b8d2-6903d3fe9a69",
   "metadata": {},
   "outputs": [
    {
     "name": "stdout",
     "output_type": "stream",
     "text": [
      "10.0\n"
     ]
    }
   ],
   "source": [
    "print(float_num)"
   ]
  },
  {
   "cell_type": "code",
   "execution_count": 43,
   "id": "299b3d13-5945-4b5b-95e2-6052efdbf04a",
   "metadata": {},
   "outputs": [
    {
     "name": "stdout",
     "output_type": "stream",
     "text": [
      "20\n"
     ]
    }
   ],
   "source": [
    "float_num = 20.10\n",
    "int_num = int(float_num)\n",
    "print(int_num)"
   ]
  },
  {
   "cell_type": "code",
   "execution_count": null,
   "id": "c6697295-0d93-465c-92d1-31d0b96f9ad7",
   "metadata": {},
   "outputs": [],
   "source": []
  }
 ],
 "metadata": {
  "kernelspec": {
   "display_name": "Python 3 (ipykernel)",
   "language": "python",
   "name": "python3"
  },
  "language_info": {
   "codemirror_mode": {
    "name": "ipython",
    "version": 3
   },
   "file_extension": ".py",
   "mimetype": "text/x-python",
   "name": "python",
   "nbconvert_exporter": "python",
   "pygments_lexer": "ipython3",
   "version": "3.10.8"
  }
 },
 "nbformat": 4,
 "nbformat_minor": 5
}
